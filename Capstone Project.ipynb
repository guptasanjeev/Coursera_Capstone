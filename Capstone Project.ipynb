{
 "cells": [
  {
   "cell_type": "markdown",
   "metadata": {},
   "source": [
    "# Capstone Project\n"
   ]
  },
  {
   "cell_type": "markdown",
   "metadata": {},
   "source": [
    "## 1.Introduction"
   ]
  },
  {
   "cell_type": "markdown",
   "metadata": {},
   "source": [
    "This project is for looking at the prevalent businesses in the top two cities in India. \n",
    "Mumbai and New Delhi are the metropolitan cities in India. For any new chain of businesses that want to spread their business in India, These are the prime cities. Based on the experience gathered in these cities, similar pattern can be adopted for other cities such as Kolkata, Chennai, Hyderabad, Bangalore, Pune etc.\n"
   ]
  },
  {
   "cell_type": "markdown",
   "metadata": {},
   "source": [
    "## 2.Business Problem"
   ]
  },
  {
   "cell_type": "markdown",
   "metadata": {},
   "source": [
    "To analyze the business opportunity, current pattern of the businesses have to be understood. \n",
    "Most popular businesses can provide the good bottom line due to existing demand. They need the right location.It is more profitable from the start if demand already exists."
   ]
  },
  {
   "cell_type": "markdown",
   "metadata": {},
   "source": [
    "## 3.Data"
   ]
  },
  {
   "cell_type": "markdown",
   "metadata": {},
   "source": [
    "The data has been taken from GeoNames Postal Code files. \n",
    "They have provided the IN.txt file that contains all post codes of India. The following is the structure of the file\n",
    "The data format is tab-delimited text in utf8 encoding, with the following fields :\n",
    "\n",
    "**country code**      : iso country code, 2 characters\n",
    "\n",
    "**postal code**       : varchar(20)\n",
    "\n",
    "**place name**        : varchar(180)\n",
    "\n",
    "**admin name1**       : 1. order subdivision (state) varchar(100)\n",
    "\n",
    "**admin code1**       : 1. order subdivision (state) varchar(20)\n",
    "\n",
    "**admin name2**       : 2. order subdivision (county/province) varchar(100)\n",
    "\n",
    "**admin code2**       : 2. order subdivision (county/province) varchar(20)\n",
    "\n",
    "**admin name3**       : 3. order subdivision (community) varchar(100)\n",
    "\n",
    "**admin code3**       : 3. order subdivision (community) varchar(20)\n",
    "\n",
    "**latitude**          : estimated latitude (wgs84)\n",
    "\n",
    "**longitude**         : estimated longitude (wgs84)\n",
    "\n",
    "**accuracy**          : accuracy of lat/lng from 1=estimated, 4=geonameid, 6=centroid of addresses or shape\n"
   ]
  },
  {
   "cell_type": "code",
   "execution_count": null,
   "metadata": {},
   "outputs": [],
   "source": []
  }
 ],
 "metadata": {
  "kernelspec": {
   "display_name": "Python",
   "language": "python",
   "name": "conda-env-python-py"
  },
  "language_info": {
   "codemirror_mode": {
    "name": "ipython",
    "version": 3
   },
   "file_extension": ".py",
   "mimetype": "text/x-python",
   "name": "python",
   "nbconvert_exporter": "python",
   "pygments_lexer": "ipython3",
   "version": "3.6.7"
  }
 },
 "nbformat": 4,
 "nbformat_minor": 4
}
